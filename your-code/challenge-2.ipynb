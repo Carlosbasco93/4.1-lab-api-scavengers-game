{
 "cells": [
  {
   "cell_type": "markdown",
   "id": "threaded-asbestos",
   "metadata": {},
   "source": [
    "# Challenge 2: Count Commits\n",
    "\n",
    "Count how many commits were made in the past week.\n",
    "\n",
    "Obtain all the commits made in the past week via API, which is a JSON array that contains multiple commit objects.\n",
    "\n",
    "Count how many commit objects are contained in the array."
   ]
  },
  {
   "cell_type": "markdown",
   "id": "norwegian-praise",
   "metadata": {},
   "source": [
    "⚠️ **Remember to limit your output before submission**."
   ]
  },
  {
   "cell_type": "code",
   "execution_count": null,
   "id": "352662c9",
   "metadata": {},
   "outputs": [],
   "source": [
    "import json\n",
    "import requests\n",
    "import os\n",
    "from dotenv import load_dotenv\n",
    "\n",
    "from datetime import date\n",
    "from datetime import datetime"
   ]
  },
  {
   "cell_type": "code",
   "execution_count": null,
   "id": "e8d3a420",
   "metadata": {},
   "outputs": [],
   "source": [
    "file = '/Users/carlosbasco/Desktop/Labs/Lab EDA 29_08/4.1-lab-api-scavengers-game/pass/pass.txt'"
   ]
  },
  {
   "cell_type": "code",
   "execution_count": null,
   "id": "cd5ca38a",
   "metadata": {},
   "outputs": [],
   "source": [
    "pswrd = ''\n",
    "with open(file) as archivo:\n",
    "    pswrd = archivo.readline().rstrip('\\n')"
   ]
  },
  {
   "cell_type": "code",
   "execution_count": null,
   "id": "developing-printing",
   "metadata": {},
   "outputs": [],
   "source": [
    "#Your code\n",
    "def requestGithub (pswrd, endpoint):\n",
    "    \n",
    "    \n",
    "    '''This function get an endopoint as argument and returns a list with the response from GitHub API.\n",
    "    It imports the github token from the .env file(not uploaded to github) and gets the authentication ready.s\n",
    "    If you don't have your token in the .env file, it will raise an error.\n",
    "    The function takes the base url https://api.github.com for github API and adds the endpoint that gets as argument'''\n",
    "    \n",
    "    \n",
    "    token = pswrd\n",
    "    if not token:\n",
    "        raise ValueError (\"Necesitas un token\")\n",
    "    direccion=\"https://api.github.com\"\n",
    "    url = direccion+endpoint\n",
    "\n",
    "    print(f\"Haciendo request a {url}\")\n",
    "    headers = {\n",
    "        \"Authorization\": token}\n",
    "\n",
    "    res = requests.get(url, headers=headers)\n",
    "    return res.json()"
   ]
  },
  {
   "cell_type": "code",
   "execution_count": null,
   "id": "ongoing-taylor",
   "metadata": {},
   "outputs": [],
   "source": [
    "file_json = requestGithub(pswrd,\"/repos/Ironhack-Data-Madrid-Agosto-2022/Apuntes-de-clase/commits\")"
   ]
  },
  {
   "cell_type": "code",
   "execution_count": null,
   "id": "creative-stable",
   "metadata": {},
   "outputs": [],
   "source": [
    "# Example: print(variable[:10]) \n",
    "file_json"
   ]
  },
  {
   "cell_type": "code",
   "execution_count": null,
   "id": "fb10fc22",
   "metadata": {
    "scrolled": true
   },
   "outputs": [],
   "source": [
    "lista_aux = []\n",
    "for element in file_json:\n",
    "    aux = element['commit']['author']['date'][:10]\n",
    "    if datetime.strptime(aux,'%Y-%m-%d') > datetime(date.today().year,date.today().month,date.today().day - 7):\n",
    "        lista_aux.append(element['commit']['author']['date'][:10])\n",
    "lista_aux"
   ]
  },
  {
   "cell_type": "code",
   "execution_count": null,
   "id": "99534b10",
   "metadata": {},
   "outputs": [],
   "source": [
    "len(lista_aux)"
   ]
  }
 ],
 "metadata": {
  "kernelspec": {
   "display_name": "Python 3 (ipykernel)",
   "language": "python",
   "name": "python3"
  },
  "language_info": {
   "codemirror_mode": {
    "name": "ipython",
    "version": 3
   },
   "file_extension": ".py",
   "mimetype": "text/x-python",
   "name": "python",
   "nbconvert_exporter": "python",
   "pygments_lexer": "ipython3",
   "version": "3.9.12"
  },
  "toc": {
   "base_numbering": 1,
   "nav_menu": {},
   "number_sections": true,
   "sideBar": true,
   "skip_h1_title": true,
   "title_cell": "Table of Contents",
   "title_sidebar": "Contents",
   "toc_cell": false,
   "toc_position": {
    "height": "calc(100% - 180px)",
    "left": "10px",
    "top": "150px",
    "width": "288px"
   },
   "toc_section_display": true,
   "toc_window_display": true
  }
 },
 "nbformat": 4,
 "nbformat_minor": 5
}
